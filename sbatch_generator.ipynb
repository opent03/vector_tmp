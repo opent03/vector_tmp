{
 "cells": [
  {
   "cell_type": "code",
   "execution_count": 7,
   "metadata": {},
   "outputs": [],
   "source": [
    "import numpy as np\n",
    "import sys\n",
    "import os "
   ]
  },
  {
   "cell_type": "code",
   "execution_count": 8,
   "metadata": {},
   "outputs": [],
   "source": [
    "!sh del_all.sh"
   ]
  },
  {
   "cell_type": "code",
   "execution_count": 9,
   "metadata": {},
   "outputs": [],
   "source": [
    "logs_path = 'slurm_logs/'\n",
    "slurm_path = 'slurm_scripts/'"
   ]
  },
  {
   "cell_type": "code",
   "execution_count": 11,
   "metadata": {},
   "outputs": [],
   "source": [
    "j=0\n",
    "def qos(i):\n",
    "    if i < 4-j:\n",
    "        return 'normal', 16\n",
    "    elif i < 12 -j:\n",
    "        return 'm', 12\n",
    "    elif i < 24-j:\n",
    "        return 'm2', 8\n",
    "    elif i < 44-j: \n",
    "        return 'm3', 4\n",
    "    elif i < 76-j:\n",
    "        return 'm4', 2\n",
    "    elif i < 140-j: \n",
    "        return 'm5', 1\n",
    "    elif i < 142: \n",
    "        return 'long', 48\n",
    "    else:\n",
    "        return 'scavenger', 96\n",
    "    \n",
    "def qos_deadline(i):\n",
    "    if i < 12-j:\n",
    "        return 'deadline', 24\n",
    "    elif i < 16-j:\n",
    "        return 'normal', 16\n",
    "    elif i < 24-j:\n",
    "        return 'm', 12\n",
    "    elif i < 36-j:\n",
    "        return 'm2', 8\n",
    "    elif i < 56-j: \n",
    "        return 'm3', 4\n",
    "    elif i < 88-j:\n",
    "        return 'm4', 2\n",
    "    elif i < 152-j: \n",
    "        return 'm5', 1\n",
    "    else:\n",
    "        return 'scavenger', 24"
   ]
  },
  {
   "cell_type": "code",
   "execution_count": 12,
   "metadata": {},
   "outputs": [],
   "source": [
    "config = {\n",
    "    'job_name': 'name',\n",
    "    'c': 20,\n",
    "    'p': 'a40,rtx6000,t4v1,t4v2',\n",
    "    'gres': 'gpu:1',\n",
    "    'mem': '64G',\n",
    "}"
   ]
  },
  {
   "cell_type": "code",
   "execution_count": null,
   "metadata": {},
   "outputs": [],
   "source": [
    "def write_file(name, qos, time, config, args=None, job_id=0):\n",
    "    if not os.path.exists(slurm_path):\n",
    "        os.mkdir(slurm_path)\n",
    "    with open(os.path.join(slurm_path, '{}_{}.slrm'.format(config['job_name'], job_id)), 'w') as file:\n",
    "        file.write(\n",
    "            '''#!/bin/bash\n",
    "#SBATCH --job-name={}_{}\\n'''.format(name, job_id))\n",
    "        if qos == 'deadline':\n",
    "            file.write('#SBATCH --account=deadline\\n')\n",
    "        file.write('''#SBATCH -c {}\\n'''.format(config['c']))\n",
    "        file.write('''#SBATCH --qos={}\\n'''.format(qos))\n",
    "        file.write('''#SBATCH --partition={}\\n'''.format(config['p']))\n",
    "        file.write('''#SBATCH --mem={}\\n'''.format(config['mem']))\n",
    "        file.write('''#SBATCH --gres={}\\n'''.format(config['gres']))\n",
    "        file.write('''#SBATCH --time={}:00:00\\n'''.format(time))\n",
    "        file.write('''#SBATCH --output={}/{}_{}.out\\n'''.format(slurm_path, config['job_name'], job_id))\n",
    "        file.write('''#SBATCH --error={}/{}_{}.out\\n'''.format(slurm_path, config['job_name'], job_id))\n",
    "        file.write('''--open-mode=append\\n''')\n",
    "        file.write('''#SBATCH --signal=B:USR@120\\n''')\n",
    "        file.write('''term_handler() {\\n''') \n",
    "        file.write('''\\tscontrol requeue \"$SLURM_JOB_ID}\"\\n''')\n",
    "        file.write('''source ~/.bashrc\\nconda activate dis\\nwhich python\\n''')\n",
    "        file.write('''python -u run.py ''')\n",
    "        for k, v in args:\n",
    "            file.write('''--{}={} '''.format(k, v))\n",
    "        file.write('''--slurm_job_id=$SLURM_JOB_ID &\\n''')\n",
    "        file.write('''child=\"$!\"\\n''')\n",
    "        file.write('''wait \"$child\"''')\n"
   ]
  },
  {
   "cell_type": "code",
   "execution_count": null,
   "metadata": {},
   "outputs": [],
   "source": [
    "write_file('test', 0, 4, config, 0)"
   ]
  },
  {
   "cell_type": "code",
   "execution_count": null,
   "metadata": {},
   "outputs": [],
   "source": []
  }
 ],
 "metadata": {
  "kernelspec": {
   "display_name": "Python 3 (ipykernel)",
   "language": "python",
   "name": "python3"
  },
  "language_info": {
   "codemirror_mode": {
    "name": "ipython",
    "version": 3
   },
   "file_extension": ".py",
   "mimetype": "text/x-python",
   "name": "python",
   "nbconvert_exporter": "python",
   "pygments_lexer": "ipython3",
   "version": "3.9.18"
  }
 },
 "nbformat": 4,
 "nbformat_minor": 2
}
